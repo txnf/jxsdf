{
 "cells": [
  {
   "cell_type": "code",
   "execution_count": 5,
   "metadata": {},
   "outputs": [],
   "source": [
    "import itertools\n",
    "import functools\n",
    "import collections\n",
    "import operator\n",
    "\n",
    "import jax\n",
    "import jax.numpy as np\n",
    "\n",
    "import pylab as plt\n",
    "\n",
    "import d3jx\n",
    "\n",
    "# import d2jx\n",
    "\n",
    "# from d2jx import *\n"
   ]
  },
  {
   "cell_type": "code",
   "execution_count": 6,
   "metadata": {},
   "outputs": [],
   "source": [
    "f = d3jx.sphere(3)"
   ]
  },
  {
   "cell_type": "code",
   "execution_count": null,
   "metadata": {},
   "outputs": [],
   "source": []
  },
  {
   "cell_type": "code",
   "execution_count": null,
   "metadata": {},
   "outputs": [],
   "source": [
    "def get_camera_ray_dir(uv, camera_pos, cam_target):\n",
    "    cam_fwd = _normalize(cam_target - cam_pos)\n",
    "    cam_right = _normalize(_cross(np.array([0., 1., 0.]), cam_fwd))\n",
    "    cam_up = _normalize(_cross(np.array(cam_fwd, cam_right)))\n",
    "\n",
    "    persp = 2.0\n",
    "    vdir = _normalize(uv[0] * cam_right + uv[1] * cam_up + cam_fwd * persp)\n",
    "\n",
    "    return vdir\n",
    "\n",
    "\n"
   ]
  },
  {
   "cell_type": "code",
   "execution_count": null,
   "metadata": {},
   "outputs": [],
   "source": [
    "def castray(sdf, rayorigin, raydir):\n",
    "    t = 0\n",
    "    for i in range(64):\n",
    "        res = sdf(rayorigin + raydir * t)\n",
    "        if res < thresh * t:\n",
    "            return t\n",
    "        t += res\n",
    "    return -1\n",
    "\n",
    "def render(sdf, rayorigin, raydir):\n",
    "    t = castray(sdf, rayorigin, raydir)\n",
    "    grey = 1.0 - t*0.075\n",
    "    color = np.array([grey, grey, grey])\n",
    "    return color\n"
   ]
  },
  {
   "cell_type": "code",
   "execution_count": null,
   "metadata": {},
   "outputs": [],
   "source": [
    "    \n"
   ]
  },
  {
   "cell_type": "code",
   "execution_count": null,
   "metadata": {},
   "outputs": [],
   "source": [
    "\n",
    "def camera_ray_direction(uv, campos, camtarget):\n",
    "    pass\n",
    "\n",
    "\n",
    "def length(p):\n",
    "    return np.linalg.norm(p)\n",
    "\n",
    "def sdsphere(p, r):\n",
    "    return length(p) - r\n",
    "\n",
    "def sdf(p):\n",
    "    t = sdsphere(p-np.array([[0,0,10]]), 3.0)\n",
    "    return t\n",
    "\n",
    "def castray(ray_origin, ray_dir):\n",
    "    t = 0\n",
    "    while res := sdf(ray_origin + ray_dir*t) > tol*t:\n",
    "        t = res\n",
    "\n",
    "def castray_np(ray_origin, ray_dir):\n",
    "    t = 0\n",
    "    while res := sdf(ray_origin + ray_dir*t):"
   ]
  },
  {
   "cell_type": "code",
   "execution_count": null,
   "metadata": {},
   "outputs": [],
   "source": []
  }
 ],
 "metadata": {
  "kernelspec": {
   "display_name": "Python 3.8.10 64-bit",
   "language": "python",
   "name": "python3"
  },
  "language_info": {
   "codemirror_mode": {
    "name": "ipython",
    "version": 3
   },
   "file_extension": ".py",
   "mimetype": "text/x-python",
   "name": "python",
   "nbconvert_exporter": "python",
   "pygments_lexer": "ipython3",
   "version": "3.8.10"
  },
  "orig_nbformat": 4,
  "vscode": {
   "interpreter": {
    "hash": "e7370f93d1d0cde622a1f8e1c04877d8463912d04d973331ad4851f04de6915a"
   }
  }
 },
 "nbformat": 4,
 "nbformat_minor": 2
}
